{
 "cells": [
  {
   "cell_type": "markdown",
   "metadata": {
    "graffitiCellId": "id_wdug686"
   },
   "source": [
    "> TIP: Remember, code with dotted lines has a tool tip and voice walkthrough!"
   ]
  },
  {
   "cell_type": "code",
   "execution_count": 1,
   "metadata": {
    "graffitiCellId": "id_hy3x04l"
   },
   "outputs": [],
   "source": [
    "# Import Package\n",
    "from cryptography.fernet import Fernet"
   ]
  },
  {
   "cell_type": "code",
   "execution_count": 2,
   "metadata": {
    "graffitiCellId": "id_ojhrtp0"
   },
   "outputs": [
    {
     "name": "stdout",
     "output_type": "stream",
     "text": [
      "b'NQH_DrUZz4dTfM4kemCPgmXeh2lY4drzKWGzgaqQWOs='\n"
     ]
    }
   ],
   "source": [
    "# Generate a Key and Instantiate a Fernet Instance\n",
    "key = Fernet.generate_key()\n",
    "f = Fernet(key)\n",
    "print(key)"
   ]
  },
  {
   "cell_type": "code",
   "execution_count": 3,
   "metadata": {
    "graffitiCellId": "id_6c7hjw4"
   },
   "outputs": [],
   "source": [
    "# Define our message\n",
    "plaintext = b\"encryption is very useful\""
   ]
  },
  {
   "cell_type": "code",
   "execution_count": 4,
   "metadata": {
    "graffitiCellId": "id_595rfih"
   },
   "outputs": [
    {
     "name": "stdout",
     "output_type": "stream",
     "text": [
      "b'gAAAAABhfl-ihXK5R5iGRiKAOEMFsgZNgiHq4iUvz0w6iCfECkuUq5R_bhOU9xIRtylT1KUG8qbwfNbp8SE6YMRMRlLvTVHHElZr7ubLPrQ7zp0uCKiyhnI='\n"
     ]
    }
   ],
   "source": [
    "# Encrypt\n",
    "ciphertext = f.encrypt(plaintext)\n",
    "print(ciphertext)"
   ]
  },
  {
   "cell_type": "code",
   "execution_count": 5,
   "metadata": {
    "graffitiCellId": "id_v8jg1f4"
   },
   "outputs": [
    {
     "name": "stdout",
     "output_type": "stream",
     "text": [
      "b'encryption is very useful'\n"
     ]
    }
   ],
   "source": [
    "# Decrypt\n",
    "decryptedtext = f.decrypt(ciphertext)\n",
    "print(decryptedtext)"
   ]
  },
  {
   "cell_type": "markdown",
   "metadata": {
    "graffitiCellId": "id_lu0gkg7"
   },
   "source": [
    "First Question"
   ]
  },
  {
   "cell_type": "code",
   "execution_count": 12,
   "metadata": {
    "graffitiCellId": "id_pnm5s5o"
   },
   "outputs": [
    {
     "name": "stdout",
     "output_type": "stream",
     "text": [
      "b'8cozhW9kSi5poZ6TWFuMCV123zg-9NORTs3gJq_J5Do='\n"
     ]
    }
   ],
   "source": [
    "key = b'8cozhW9kSi5poZ6TWFuMCV123zg-9NORTs3gJq_J5Do='\n",
    "f = Fernet(key)\n",
    "print(key)"
   ]
  },
  {
   "cell_type": "code",
   "execution_count": 13,
   "metadata": {
    "graffitiCellId": "id_d4ygblz"
   },
   "outputs": [],
   "source": [
    "# Define our message\n",
    "ciphertext = b'gAAAAABc8Wf3rxaime-363wbhCaIe1FoZUdnFeIXX_Nh9qKSDkpBFPqK8L2HbkM8NCQAxY8yOWbjxzMC4b5uCaeEpqDYCRNIhnqTK8jfzFYfPdozf7NPvGzNBwuuvIxK5NZYJbxQwfK72BNrZCKpfp6frL8m8pdgYbLNFcy6jCJBXATR3gHBb0Y='"
   ]
  },
  {
   "cell_type": "code",
   "execution_count": 14,
   "metadata": {
    "graffitiCellId": "id_6q68scp"
   },
   "outputs": [
    {
     "name": "stdout",
     "output_type": "stream",
     "text": [
      "b'great job! remember, encryption is only as good as your key secrecy!'\n"
     ]
    }
   ],
   "source": [
    "# Decrypt\n",
    "decryptedtext = f.decrypt(ciphertext)\n",
    "print(decryptedtext)"
   ]
  },
  {
   "cell_type": "markdown",
   "metadata": {
    "graffitiCellId": "id_7lxb31o"
   },
   "source": [
    "Second Question"
   ]
  },
  {
   "cell_type": "code",
   "execution_count": 15,
   "metadata": {
    "graffitiCellId": "id_tvxs7nt"
   },
   "outputs": [],
   "source": [
    "message = b'encrypting is just as useful'"
   ]
  },
  {
   "cell_type": "code",
   "execution_count": 16,
   "metadata": {
    "graffitiCellId": "id_evvwqdd"
   },
   "outputs": [
    {
     "name": "stdout",
     "output_type": "stream",
     "text": [
      "b'gAAAAABhfmDL1nt7l2rAJZwK8Dcf6Nsfu5h8qc2A4SfuftcdbUtrwaNFJ2sUeo8H9Kt1tBZzKYXqOm_5WAolS9kGIhZdW-cgK3HkV0OeFj8Vq88ErWlnBdo='\n"
     ]
    }
   ],
   "source": [
    "# Encrypt\n",
    "ciphertext = f.encrypt(message)\n",
    "print(ciphertext)"
   ]
  },
  {
   "cell_type": "code",
   "execution_count": null,
   "metadata": {
    "graffitiCellId": "id_hailanp"
   },
   "outputs": [],
   "source": []
  }
 ],
 "metadata": {
  "graffiti": {
   "firstAuthorId": "10489997357",
   "id": "id_10h5nnh",
   "language": "EN"
  },
  "kernelspec": {
   "display_name": "Python 3",
   "language": "python",
   "name": "python3"
  },
  "language_info": {
   "codemirror_mode": {
    "name": "ipython",
    "version": 3
   },
   "file_extension": ".py",
   "mimetype": "text/x-python",
   "name": "python",
   "nbconvert_exporter": "python",
   "pygments_lexer": "ipython3",
   "version": "3.6.3"
  }
 },
 "nbformat": 4,
 "nbformat_minor": 2
}
