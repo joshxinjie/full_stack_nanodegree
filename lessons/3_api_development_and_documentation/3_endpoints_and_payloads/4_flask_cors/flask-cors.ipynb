{
 "cells": [
  {
   "cell_type": "markdown",
   "metadata": {
    "graffitiCellId": "id_b2slrdu"
   },
   "source": [
    "# Flask-CORS\n",
    "In your Flask applications, you'll use the Flask-CORS library to enable CORS. \n",
    "Below you'll see samples of how to use Flask-CORS to enable different configurations of CORS. Try reading and analyzing the code before using the tooltips to hear the explanations. "
   ]
  },
  {
   "cell_type": "code",
   "execution_count": 1,
   "metadata": {
    "graffitiCellId": "id_9qgzfd1"
   },
   "outputs": [
    {
     "name": "stdout",
     "output_type": "stream",
     "text": [
      "Collecting flask_cors\n",
      "  Downloading https://files.pythonhosted.org/packages/db/84/901e700de86604b1c4ef4b57110d4e947c218b9997adf5d38fa7da493bce/Flask_Cors-3.0.10-py2.py3-none-any.whl\n",
      "Requirement already satisfied: Flask>=0.9 in /opt/conda/lib/python3.6/site-packages (from flask_cors) (0.12.2)\n",
      "Requirement already satisfied: Six in /opt/conda/lib/python3.6/site-packages (from flask_cors) (1.11.0)\n",
      "Requirement already satisfied: Werkzeug>=0.7 in /opt/conda/lib/python3.6/site-packages (from Flask>=0.9->flask_cors) (0.14.1)\n",
      "Requirement already satisfied: Jinja2>=2.4 in /opt/conda/lib/python3.6/site-packages (from Flask>=0.9->flask_cors) (2.10)\n",
      "Requirement already satisfied: itsdangerous>=0.21 in /opt/conda/lib/python3.6/site-packages (from Flask>=0.9->flask_cors) (0.24)\n",
      "Requirement already satisfied: click>=2.0 in /opt/conda/lib/python3.6/site-packages (from Flask>=0.9->flask_cors) (6.7)\n",
      "Requirement already satisfied: MarkupSafe>=0.23 in /opt/conda/lib/python3.6/site-packages (from Jinja2>=2.4->Flask>=0.9->flask_cors) (1.0)\n",
      "Installing collected packages: flask-cors\n",
      "Successfully installed flask-cors-3.0.10\n"
     ]
    }
   ],
   "source": [
    "# Install the flask_cors dependency\n",
    "!pip install flask_cors\n",
    "# Check the specific version\n",
    "# !pip show flask_cors"
   ]
  },
  {
   "cell_type": "code",
   "execution_count": 2,
   "metadata": {
    "graffitiCellId": "id_f5o09dc"
   },
   "outputs": [],
   "source": [
    "# Import Dependencies\n",
    "from flask import Flask\n",
    "from flask_cors import CORS"
   ]
  },
  {
   "cell_type": "code",
   "execution_count": 3,
   "metadata": {
    "graffitiCellId": "id_smo0qpl"
   },
   "outputs": [],
   "source": [
    "def create_app(test_config=None):\n",
    "    app = Flask(__name__)\n",
    "#   CORS(app)\n",
    "    cors = CORS(app, resources={r\"/api/*\": {\"origins\": \"*\"}})\n",
    "\n",
    "    # CORS Headers \n",
    "    @app.after_request\n",
    "    def after_request(response):\n",
    "        response.headers.add('Access-Control-Allow-Headers', 'Content-Type,Authorization,true')\n",
    "        response.headers.add('Access-Control-Allow-Methods', 'GET,PATCH,POST,DELETE,OPTIONS')\n",
    "        return response\n",
    "    \n",
    "    @app.route('/messages')\n",
    "    @cross_origin()\n",
    "    def get_messages():\n",
    "        return 'GETTING MESSAGES'"
   ]
  },
  {
   "cell_type": "code",
   "execution_count": null,
   "metadata": {
    "graffitiCellId": "id_r84gy01"
   },
   "outputs": [],
   "source": []
  }
 ],
 "metadata": {
  "graffiti": {
   "firstAuthorId": "5362449611",
   "id": "id_j0as61w",
   "language": "EN"
  },
  "kernelspec": {
   "display_name": "Python 3",
   "language": "python",
   "name": "python3"
  },
  "language_info": {
   "codemirror_mode": {
    "name": "ipython",
    "version": 3
   },
   "file_extension": ".py",
   "mimetype": "text/x-python",
   "name": "python",
   "nbconvert_exporter": "python",
   "pygments_lexer": "ipython3",
   "version": "3.6.3"
  }
 },
 "nbformat": 4,
 "nbformat_minor": 2
}
