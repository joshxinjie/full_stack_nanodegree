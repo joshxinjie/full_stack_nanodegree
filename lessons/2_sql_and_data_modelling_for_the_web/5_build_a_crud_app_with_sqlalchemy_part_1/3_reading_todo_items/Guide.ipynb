{
 "cells": [
  {
   "cell_type": "markdown",
   "metadata": {
    "editable": true
   },
   "source": [
    "# Follow along\n",
    "\n",
    "Use this workspace to follow along the steps for developing your Todo App.\n",
    "\n",
    "### Continuing your same CRUD Todo App project\n",
    "\n",
    "This workspace uses the same files, data, and virtual machine of the former workspace you were working out of in the previous lesson(s).\n",
    "\n",
    "To avoid getting stuck, the solution to the prior lesson is shown above this workspace as \"Starter Code\", so if you made a mistake or would like to start again on a clean slate, you can copy-paste working starter code from above.\n",
    "\n",
    "### File Structure\n",
    "\n",
    "The `/todoapp` file has the following structure in place:\n",
    "\n",
    "```\n",
    "app.py\n",
    "templates/\n",
    "  index.html\n",
    "```\n",
    "\n",
    "The files `templates/index.html` and `app.py` are open on your left for your convenience.\n",
    "\n"
   ]
  },
  {
   "cell_type": "markdown",
   "metadata": {
    "editable": true
   },
   "source": [
    "Remember that to run the application, you'll want to run\n",
    "\n",
    "```\n",
    "$ cd todoapp/\n",
    "```\n",
    "and either do\n",
    "\n",
    "```\n",
    "$ python3 app.py\n",
    "```\n",
    "\n",
    "If you have it set up that way (using `if __name__ == '__main__'`), or\n",
    "\n",
    "```\n",
    "$ export FLASK_APP=app.py\n",
    "$ export FLASK_DEBUG=true\n",
    "$ flask run\n",
    "```"
   ]
  }
 ],
 "metadata": {
  "kernelspec": {
   "display_name": "Python 3",
   "language": "python",
   "name": "python3"
  },
  "language_info": {
   "codemirror_mode": {
    "name": "ipython",
    "version": 3
   },
   "file_extension": ".py",
   "mimetype": "text/x-python",
   "name": "python",
   "nbconvert_exporter": "python",
   "pygments_lexer": "ipython3",
   "version": "3.6.3"
  },
  "ulab_nb_type": "guided"
 },
 "nbformat": 4,
 "nbformat_minor": 4
}
