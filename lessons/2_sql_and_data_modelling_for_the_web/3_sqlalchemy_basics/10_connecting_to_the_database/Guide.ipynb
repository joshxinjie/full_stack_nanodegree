{
 "cells": [
  {
   "cell_type": "markdown",
   "metadata": {},
   "source": [
    "## Write a Flask App\n",
    "\n",
    "Practice writing a Flask App!\n",
    "\n",
    "### Exercise 1\n",
    "\n",
    "* Write a Flask App that outputs 'Hello World!' when you run the application.\n",
    "\n",
    "* Run the application using `FLASK_APP=app flask run`, in debug mode. \n",
    "\n",
    "* Try using the method outlined above to run the application using `$ python3 app.py` instead, using the `if __name__ == '__main__':` method."
   ]
  },
  {
   "cell_type": "markdown",
   "metadata": {
    "ulab": {
     "buttons": {
      "ulab-button-f0e17384": {
       "bashCommand": "FLASK_APP=app flask run",
       "filesToOpen": [],
       "isPreviewButton": true,
       "runInBackground": false,
       "style": "primary",
       "text": "Run FLASK_APP=app flask run",
       "toggleOffText": "HIDE SOLUTION",
       "toggleOnText": "SHOW SOLUTION"
      }
     }
    }
   },
   "source": [
    "<button id=\"ulab-button-f0e17384\" class=\"ulab-btn--primary\"></button>"
   ]
  },
  {
   "cell_type": "markdown",
   "metadata": {
    "ulab": {
     "buttons": {
      "ulab-button-ea5f19bd": {
       "bashCommand": "python3 app.py",
       "filesToOpen": [],
       "isPreviewButton": true,
       "runInBackground": false,
       "style": "primary",
       "text": "RUN python3 app.py",
       "toggleOffText": "HIDE SOLUTION",
       "toggleOnText": "SHOW SOLUTION"
      }
     }
    }
   },
   "source": [
    "<button id=\"ulab-button-ea5f19bd\" class=\"ulab-btn--primary\"></button>"
   ]
  },
  {
   "cell_type": "markdown",
   "metadata": {},
   "source": [
    "### Exercise 2\n",
    "\n",
    "* Create a Postgres database for your application\n",
    "* Import FLask-SQLAlchemy into your Flask app\n",
    "* Connect from SQLAlchemy to your Postgres database on your local machine.\n",
    "  * This local machine's user is called `student`, with no password.\n",
    "  * Use the default database port to connect\n",
    "* Create an instance of the `SQLALchemy` class, that takes your flask app, and set it equal to a variable called `db`:\n",
    "\n",
    "```\n",
    "db = SQLAlchemy(app)\n",
    "```\n",
    "\n",
    "### Exercise 3\n",
    "\n",
    "* Create a SQLALchemy model, `Person`, with custom table name `persons`, that includes ID and name attributes, in the server script `app.py`.\n",
    "* Have SQLAlchemy create the `persons` table if it doesn't exist already, whenever the server is run.\n",
    "* Run the server.\n",
    "* In the terminal, check that SQLAlchemy ORM successfully created the table by connecting to the database using psql.\n",
    "\n",
    "### Exercise 4\n",
    "* Run the script, so that the persons table exists.\n",
    "* Run the application, with debug mode on.\n",
    "* Create a person record in the persons table, by connecting to psql and using `INSERT INTO`.\n",
    "* Change the index route from saying \"Hello World!\" to saying \"Hello\" to the name of a person in the persons table.\n",
    "* Preview the app in the browser, and see it output \"Hello\" next to the name of the person record in the database."
   ]
  },
  {
   "cell_type": "code",
   "execution_count": null,
   "metadata": {},
   "outputs": [],
   "source": []
  }
 ],
 "metadata": {
  "kernelspec": {
   "display_name": "Python 3",
   "language": "python",
   "name": "python3"
  },
  "language_info": {
   "codemirror_mode": {
    "name": "ipython",
    "version": 3
   },
   "file_extension": ".py",
   "mimetype": "text/x-python",
   "name": "python",
   "nbconvert_exporter": "python",
   "pygments_lexer": "ipython3",
   "version": "3.6.3"
  }
 },
 "nbformat": 4,
 "nbformat_minor": 2
}
